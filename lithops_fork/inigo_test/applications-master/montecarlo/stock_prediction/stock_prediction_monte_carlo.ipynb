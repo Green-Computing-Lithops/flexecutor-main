{
 "cells": [
  {
   "cell_type": "markdown",
   "metadata": {},
   "source": [
    "# <span style=\"color:blue\">Stock prediction with Monte Carlo methods</span>\n",
    "We demonstrate how to run Monte Carlo simulations with [lithops](https://github.com/lithops-cloud/lithops) over Cloud Functions. This notebook contains an example of stock prediction with Monte Carlo. The goal of this notebook is to demonstrate how Cloud Functions can benefit Monte Carlo simulations and not how stock prediction works. As stock prediction is very complicated and requires many prior knowledge and correct models, we did not innovate the Monte Carlo Method for handling the unpredictability of stock prices, nor do we provide any results for prediction based on long term data sources.\n",
    "\n",
    "Requirements to run this notebook:\n",
    "\n",
    "- IBM Cloud or a [Lithops-supported Cloud provider account](https://lithops-cloud.github.io/docs/source/compute_backends.html).\n",
    "- You will need to have at least one existing object storage bucket."
   ]
  },
  {
   "cell_type": "markdown",
   "metadata": {},
   "source": [
    "## <span style=\"color:blue\">Step 1  - Dependencies </span>\n",
    "\n",
    "import and install dependencies"
   ]
  },
  {
   "cell_type": "code",
   "execution_count": 1,
   "metadata": {},
   "outputs": [],
   "source": [
    "import numpy as np\n",
    "from time import time\n",
    "import matplotlib.pyplot as plt\n",
    "import scipy.stats as scpy\n",
    "\n",
    "#Install Lithops\n",
    "try:\n",
    "    import lithops\n",
    "except:\n",
    "    !pip install -r requirements.txt\n",
    "    import lithops\n",
    "\n",
    "# you can modify logging level if needed\n",
    "#logging.basicConfig(level=logging.DEBUG)"
   ]
  },
  {
   "cell_type": "markdown",
   "metadata": {},
   "source": [
    "## <span style=\"color:blue\">Step 2 - Write Python code that implements Monte Carlo simulation </span>\n",
    "Below is an example of Python code to demonstrate Monte Carlo model for stock prediction.\n",
    "\n",
    "'StockData' is a  Python class that we use to represent a single stock. \n",
    " You may configure the following parameters:\n",
    "\n",
    "    MAP_INSTANCES - number of Cloud Function invocations. Default is 1000\n",
    "    forecasts_per_map - number of forecasts to run in a single invocation. Default is 100\n",
    "    day2predict - number of days to predict for each forecast. Default is 730 days\n",
    "\n",
    "Our code contains two major Python methods:\n",
    "\n",
    "    def process_forecasts(data=None) - a function to process number of forecasts and\n",
    "      days as configured. (aka \"map\" in map-reduce paradigm)\n",
    "    def combine_forecasts(results) - summarize results of all process_forecasts\n",
    "      executions (aka \"reduce\" in map-reduce paradigm)\n",
    "    \n",
    "    "
   ]
  },
  {
   "cell_type": "code",
   "execution_count": 2,
   "metadata": {},
   "outputs": [],
   "source": [
    "MAP_INSTANCES = 10\n",
    "\n",
    "class StockData:\n",
    "    forecasts_per_map = 100\n",
    "    days2predict = 730\n",
    "\n",
    "    def __init__(self, title, drift, std_dev, last_value):\n",
    "        self.title = title\n",
    "        self.last_value = last_value\n",
    "        self.std_dev = std_dev\n",
    "        self.drift = drift\n",
    "\n",
    "    def single_forecast_generator(self):\n",
    "        predicts_est = [self.last_value]\n",
    "        for predict in range(1, self.days2predict + 1):\n",
    "            rand = np.random.rand()\n",
    "            pow_r = scpy.norm.ppf(rand)\n",
    "            predicts_est.append(predicts_est[predict - 1] * np.exp(self.drift + (self.std_dev * pow_r)))\n",
    "        return predicts_est\n",
    "\n",
    "def process_forecasts(data=None):\n",
    "    end = current_stock.days2predict\n",
    "    mid = int(end / 2)\n",
    "    hist_end = list()\n",
    "    hist_mid = list()\n",
    "    for i in range(StockData.forecasts_per_map):\n",
    "        frc = current_stock.single_forecast_generator()\n",
    "        hist_end.append(frc[end])\n",
    "        hist_mid.append(frc[mid])\n",
    "    return hist_mid, hist_end\n",
    "\n",
    "\n",
    "def combine_forecasts(results):\n",
    "    print(np.__version__)  # in order to import numpy\n",
    "    hist_end = list()\n",
    "    hist_mid = list()\n",
    "    for single_map_result in results:\n",
    "        hist_end.extend(single_map_result[1])\n",
    "        hist_mid.extend(single_map_result[0])\n",
    "    return (hist_mid, hist_end)\n"
   ]
  },
  {
   "cell_type": "markdown",
   "metadata": {},
   "source": [
    "## <span style=\"color:blue\">Step 3 - Configure access to your COS account and Cloud Functions</span>\n",
    "\n",
    "Configure access details to your Cloud provider.  'storage_bucket'  should point to some pre-existing bucket. This bucket will be used by Lithops to store intermediate results. All results will be stored in the folder `lithops.jobs`. For additional configuration parameters see [configuration section](https://lithops-cloud.github.io/docs/source/configuration.html)."
   ]
  },
  {
   "cell_type": "markdown",
   "metadata": {},
   "source": [
    "## <span style=\"color:blue\">Step 4 - Input data on the past stock prices </span>\n",
    "This step is mandatory to run our example. The raw stock daily data need to be prepared prior used by the code.\n",
    "You can follow the next steps to create different input data. You may use any spreadsheet for this process or any other tool.\n",
    "\n",
    "    * Fetch historical daily value of the stock from some reliable finance website\n",
    "    * Calculate ln() function of two consecutive days ln (today price / yesterday price )\n",
    "    * Calculate the variance 'var', the average 'u' and standard deviation of the previous results\n",
    "    * Calculate the drift by equation drift = u - (var^2 / 2 )"
   ]
  },
  {
   "cell_type": "code",
   "execution_count": 3,
   "metadata": {
    "scrolled": true
   },
   "outputs": [
    {
     "name": "stdout",
     "output_type": "stream",
     "text": [
      "Current Stock: Example 2014, 2015, 2016\n",
      "Total Forecasts: 1000\n",
      "Days to Predict: 730\n"
     ]
    }
   ],
   "source": [
    "total_forecasts = MAP_INSTANCES * StockData.forecasts_per_map\n",
    "\n",
    "current_stock = StockData(title=\"Example 2014, 2015, 2016\", drift=-0.00022513546014255100, std_dev=0.0121678341323272,\n",
    "                               last_value=159.44)\n",
    "print(\"Current Stock: \" + current_stock.title)\n",
    "print(\"Total Forecasts: \" + str(total_forecasts))\n",
    "print(\"Days to Predict: \" + str(current_stock.days2predict))"
   ]
  },
  {
   "cell_type": "markdown",
   "metadata": {},
   "source": [
    "## <span style=\"color:blue\"> Step 5 - Execute simulation with Lithops over IBM Cloud Functions </span>"
   ]
  },
  {
   "cell_type": "code",
   "execution_count": 4,
   "metadata": {},
   "outputs": [
    {
     "name": "stderr",
     "output_type": "stream",
     "text": [
      "2024-12-18 00:04:27,189 [INFO] config.py:139 -- Lithops v3.5.1 - Python3.10\n",
      "2024-12-18 00:04:27,192 [INFO] localhost.py:39 -- Localhost storage client created\n",
      "2024-12-18 00:04:27,193 [INFO] localhost.py:78 -- Localhost compute v2 client created\n",
      "2024-12-18 00:04:27,216 [INFO] invokers.py:119 -- ExecutorID 77b0cb-0 | JobID M000 - Selected Runtime: python \n",
      "2024-12-18 00:04:27,219 [INFO] invokers.py:186 -- ExecutorID 77b0cb-0 | JobID M000 - Starting function invocation: process_forecasts() - Total: 10 activations\n",
      "2024-12-18 00:04:27,249 [INFO] invokers.py:225 -- ExecutorID 77b0cb-0 | JobID M000 - View execution logs at /tmp/lithops-german/logs/77b0cb-0-M000.log\n",
      "2024-12-18 00:04:27,250 [INFO] wait.py:105 -- ExecutorID 77b0cb-0 - Waiting for 20% of 10 function activations to complete\n"
     ]
    },
    {
     "name": "stdout",
     "output_type": "stream",
     "text": [
      "Monte Carlo simulation for Example 2014, 2015, 2016 using 1000 forecasts spawing over 10 Cloud Function invocations\n"
     ]
    },
    {
     "data": {
      "application/vnd.jupyter.widget-view+json": {
       "model_id": "e8b4d7ca2171420386294a50b3ec7491",
       "version_major": 2,
       "version_minor": 0
      },
      "text/plain": [
       "    0%|          | 0/2  "
      ]
     },
     "metadata": {},
     "output_type": "display_data"
    },
    {
     "name": "stderr",
     "output_type": "stream",
     "text": [
      "2024-12-18 00:04:33,517 [INFO] invokers.py:119 -- ExecutorID 77b0cb-0 | JobID R000 - Selected Runtime: python \n",
      "2024-12-18 00:04:33,524 [INFO] invokers.py:186 -- ExecutorID 77b0cb-0 | JobID R000 - Starting function invocation: combine_forecasts() - Total: 1 activations\n",
      "2024-12-18 00:04:33,525 [INFO] invokers.py:225 -- ExecutorID 77b0cb-0 | JobID R000 - View execution logs at /tmp/lithops-german/logs/77b0cb-0-R000.log\n",
      "2024-12-18 00:04:33,526 [INFO] executors.py:494 -- ExecutorID 77b0cb-0 - Getting results from 1 function activations\n",
      "2024-12-18 00:04:33,526 [INFO] wait.py:101 -- ExecutorID 77b0cb-0 - Waiting for 6 function activations to complete\n"
     ]
    },
    {
     "data": {
      "application/vnd.jupyter.widget-view+json": {
       "model_id": "d7d4f6cf546944318a3ef040b6c1b033",
       "version_major": 2,
       "version_minor": 0
      },
      "text/plain": [
       "    0%|          | 0/6  "
      ]
     },
     "metadata": {},
     "output_type": "display_data"
    },
    {
     "name": "stderr",
     "output_type": "stream",
     "text": [
      "2024-12-18 00:04:36,965 [INFO] executors.py:618 -- ExecutorID 77b0cb-0 - Cleaning temporary data\n"
     ]
    },
    {
     "name": "stdout",
     "output_type": "stream",
     "text": [
      "\n",
      "Completed in: 9.791324853897095 seconds\n"
     ]
    }
   ],
   "source": [
    "iterdata = [{\"data\": None}] * MAP_INSTANCES\n",
    "start_time = time()\n",
    "print (\"Monte Carlo simulation for {} using {} forecasts spawing over {} Cloud Function invocations\".format(current_stock.title, total_forecasts, MAP_INSTANCES))\n",
    "# obtain lithops executor\n",
    "fexec = lithops.FunctionExecutor()\n",
    "# execute the code\n",
    "fexec.map_reduce(process_forecasts, iterdata, combine_forecasts)\n",
    "#get results\n",
    "result = fexec.get_result()\n",
    "\n",
    "elapsed = time()\n",
    "print(\"\\nCompleted in: \" + str(elapsed - start_time) + \" seconds\")"
   ]
  },
  {
   "cell_type": "markdown",
   "metadata": {},
   "source": [
    "## <span style=\"color:blue\">Step 6 - Print the graphs </span>"
   ]
  },
  {
   "cell_type": "code",
   "execution_count": 5,
   "metadata": {
    "scrolled": false
   },
   "outputs": [
    {
     "name": "stdout",
     "output_type": "stream",
     "text": [
      "END Histogram for Example 2014, 2015, 2016 based on 1000 forecasts. Predicted price after 730 days\n"
     ]
    },
    {
     "data": {
      "image/png": "[encoded data removed]",
      "text/plain": [
       "<Figure size 640x480 with 1 Axes>"
      ]
     },
     "metadata": {},
     "output_type": "display_data"
    }
   ],
   "source": [
    "'''Histogram for end prediction forecast plot'''\n",
    "\n",
    "end_data = result[1]\n",
    "print(\"END Histogram for {} based on {} forecasts. Predicted price after {} days\".format(current_stock.title,total_forecasts, current_stock.days2predict ))\n",
    "plt.hist(end_data, bins='auto')\n",
    "plt.grid(True)\n",
    "plt.title(\"End prediction period histogram\")\n",
    "plt.ylabel(\"Number of forecasts to predict the price\")\n",
    "plt.xlabel(\"Stock price in US Dollars\")\n",
    "plt.show()"
   ]
  }
 ],
 "metadata": {
  "kernelspec": {
   "display_name": "Python 3",
   "language": "python",
   "name": "python3"
  },
  "language_info": {
   "codemirror_mode": {
    "name": "ipython",
    "version": 3
   },
   "file_extension": ".py",
   "mimetype": "text/x-python",
   "name": "python",
   "nbconvert_exporter": "python",
   "pygments_lexer": "ipython3",
   "version": "3.10.15"
  }
 },
 "nbformat": 4,
 "nbformat_minor": 1
}
