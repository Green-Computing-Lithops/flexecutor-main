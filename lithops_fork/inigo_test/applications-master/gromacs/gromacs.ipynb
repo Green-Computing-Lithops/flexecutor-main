{
 "cells": [
  {
   "cell_type": "markdown",
   "metadata": {},
   "source": [
    "\n",
    "<br>\n",
    "Example of running GROMACS with lithops<br>\n"
   ]
  },
  {
   "cell_type": "markdown",
   "metadata": {},
   "source": [
    "# GROMACS Computations\n",
    "\n",
    "GROMACS is a versatile package to perform molecular dynamics, i.e. simulate the Newtonian equations of motion for systems with hundreds to millions of particles.\n",
    "\n",
    "In this notebook, GROMACS software is run with parameters over cloud functions via shell command. We demonstrate how complex computations and softwares like this can be handled using Lithops and Cloud resources."
   ]
  },
  {
   "cell_type": "markdown",
   "metadata": {},
   "source": [
    "## Installing the dependencies"
   ]
  },
  {
   "cell_type": "markdown",
   "metadata": {},
   "source": [
    "Install the dependencies within an execution environment with the attached [requirements.txt](./requirements.txt) file."
   ]
  },
  {
   "cell_type": "code",
   "execution_count": null,
   "metadata": {},
   "outputs": [],
   "source": [
    "!pip install -r requirements.txt"
   ]
  },
  {
   "cell_type": "code",
   "execution_count": null,
   "metadata": {},
   "outputs": [],
   "source": [
    "RUNTIME_NAME = \"lithops-gromacs-runtime:1\""
   ]
  },
  {
   "cell_type": "markdown",
   "metadata": {},
   "source": [
    "Build a runtime with the necessary dependencies. You have to substitute aws_lambda with your desired computation backend, if necessary.\n",
    "\n",
    "**NOTE: building GROMACS runtime takes significant time, could be more than an hour.**"
   ]
  },
  {
   "cell_type": "code",
   "execution_count": null,
   "metadata": {},
   "outputs": [],
   "source": [
    "!lithops runtime build -b aws_lambda -f runtime/Dockerfile.py3.10 $RUNTIME_NAME --debug"
   ]
  },
  {
   "cell_type": "code",
   "execution_count": null,
   "metadata": {},
   "outputs": [],
   "source": [
    "import lithops\n",
    "import os\n",
    "import zipfile\n",
    "import time\n"
   ]
  },
  {
   "cell_type": "markdown",
   "metadata": {},
   "source": [
    "## Execution\n",
    "\n",
    "Here in this notebook there is only one function that we execute over cloud functions. This function downloads the benchMEM benchmark set and executes the shell command for running the gromacs software with the given parameters and uploads the results to the specified bucket."
   ]
  },
  {
   "cell_type": "markdown",
   "metadata": {},
   "source": [
    "You should replace BUCKET with your bucket name in which you put the dataset."
   ]
  },
  {
   "cell_type": "code",
   "execution_count": null,
   "metadata": {},
   "outputs": [],
   "source": [
    "BUCKET = \"BUCKET\"\n",
    "KEY = \"benchMEM.zip\""
   ]
  },
  {
   "cell_type": "code",
   "execution_count": null,
   "metadata": {},
   "outputs": [],
   "source": [
    "temp_dir = '/tmp'\n",
    "iterdata = [1]\n",
    "\n",
    "def sh_cmd_executor(x, param1, storage):\n",
    "\n",
    "    print (param1)\n",
    "    filename = 'benchMEM.zip'\n",
    "    outfile = os.path.join(temp_dir, filename)\n",
    "    if not os.path.isfile(filename):\n",
    "        storage.download_file(BUCKET, KEY, file_name = outfile)\n",
    "        with zipfile.ZipFile(outfile, 'r') as zip_ref:\n",
    "            print('Extracting file to %s' % temp_dir)\n",
    "            zip_ref.extractall(temp_dir)\n",
    "    else:\n",
    "        print(filename, \" already exists\")\n",
    "    os.chdir(temp_dir)\n",
    "    cmd = \"/usr/local/gromacs/bin/gmx mdrun -nt 4 -s benchMEM.tpr -nsteps 1000 -resethway\"\n",
    "    st = time.time()\n",
    "    import subprocess\n",
    "    subprocess.call(cmd, shell=True)\n",
    "    run_time = time.time() - st\n",
    "\n",
    "    # upload results to IBM COS\n",
    "    res = ['confout.gro', 'ener.edr', 'md.log',  'state.cpt']\n",
    "    for name in res:\n",
    "        f = open(os.path.join(temp_dir, name), \"rb\")\n",
    "        storage.put_object(bucket=BUCKET, key=os.path.join('gmx-mem', name), body=f)\n",
    "    with open('md.log', 'r') as file:\n",
    "        data = file.read()\n",
    "    return {'run_time': run_time, 'md_log': data}"
   ]
  },
  {
   "cell_type": "markdown",
   "metadata": {},
   "source": [
    "We use lithops and the pre-built runtime to run gromacs with the parameters given. **Currently, the runtime cactusone/lithops-gromacs:1.0.2 uses Python3.8, so you must run the application with Python3.8.** And we get the results from GROMACS at the end of the process."
   ]
  },
  {
   "cell_type": "code",
   "execution_count": null,
   "metadata": {},
   "outputs": [],
   "source": [
    "if __name__ == '__main__':\n",
    "    # Example of using bechMEM from https://www.mpibpc.mpg.de/grubmueller/bench\n",
    "    param1 = 'param1 example'\n",
    "    total_start = time.time()\n",
    "    fexec = lithops.FunctionExecutor(runtime=RUNTIME_NAME, runtime_memory=2048, log_level='DEBUG')\n",
    "    fexec.map(sh_cmd_executor, iterdata, extra_args=(param1,))\n",
    "    res = fexec.get_result()\n",
    "    fexec.clean()\n",
    "    print (\"GROMACS execution time {}\".format(res[0]['run_time']))\n",
    "    print (\"Total execution time {}\".format(time.time()-total_start))\n",
    "    print (res[0]['md_log'])"
   ]
  }
 ],
 "metadata": {
  "kernelspec": {
   "display_name": "Python 3",
   "language": "python",
   "name": "python3"
  },
  "language_info": {
   "codemirror_mode": {
    "name": "ipython",
    "version": 3
   },
   "file_extension": ".py",
   "mimetype": "text/x-python",
   "name": "python",
   "nbconvert_exporter": "python",
   "pygments_lexer": "ipython3",
   "version": "3.10.15"
  }
 },
 "nbformat": 4,
 "nbformat_minor": 2
}
